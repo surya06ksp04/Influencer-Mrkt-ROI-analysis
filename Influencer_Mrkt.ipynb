{
  "nbformat": 4,
  "nbformat_minor": 0,
  "metadata": {
    "colab": {
      "provenance": []
    },
    "kernelspec": {
      "name": "python3",
      "display_name": "Python 3"
    },
    "language_info": {
      "name": "python"
    }
  },
  "cells": [
    {
      "cell_type": "code",
      "execution_count": 2,
      "metadata": {
        "colab": {
          "base_uri": "https://localhost:8080/"
        },
        "id": "PaDCT_kpXeim",
        "outputId": "a27ae23c-3394-4374-81eb-4c5ac231efe9"
      },
      "outputs": [
        {
          "output_type": "stream",
          "name": "stdout",
          "text": [
            "\n",
            "=== Influencer Analysis ===\n",
            "       name  followers  engagement_rate  fake_follower_flag  roi_score\n",
            "0     Alice     150000         2.600000               False   0.005200\n",
            "1       Bob      50000         9.200000               False   0.030667\n",
            "2   Charlie     200000         0.800000                True   0.001000\n",
            "3     Daisy      80000        10.250000               False   0.025625\n",
            "4     Ethan     120000         1.833333                True   0.004074\n",
            "5     Fiona      60000         9.500000               False   0.027143\n",
            "6    George     180000         1.555556                True   0.002593\n",
            "7    Hannah      90000         7.555556               False   0.019883\n",
            "8       Ian      75000         4.666667               False   0.014583\n",
            "9   Jasmine     110000         8.090909               False   0.014711\n",
            "10    Kevin     140000         2.714286               False   0.005655\n",
            "11    Laura      50000        10.200000               False   0.032903\n",
            "12     Mike      95000         4.736842               False   0.013158\n",
            "13     Nina     130000         8.076923               False   0.015533\n",
            "14    Oscar     170000         1.764706                True   0.002715\n",
            "\n",
            "=== Top Influencers by ROI ===\n",
            "       name  roi_score\n",
            "11    Laura   0.032903\n",
            "1       Bob   0.030667\n",
            "5     Fiona   0.027143\n",
            "3     Daisy   0.025625\n",
            "7    Hannah   0.019883\n",
            "13     Nina   0.015533\n",
            "9   Jasmine   0.014711\n",
            "8       Ian   0.014583\n",
            "12     Mike   0.013158\n",
            "10    Kevin   0.005655\n",
            "0     Alice   0.005200\n",
            "4     Ethan   0.004074\n",
            "14    Oscar   0.002715\n",
            "6    George   0.002593\n",
            "2   Charlie   0.001000\n"
          ]
        }
      ],
      "source": [
        "import pandas as pd\n",
        "\n",
        "# Loading the influencer dataset\n",
        "df = pd.read_csv(\"influencers.csv\")\n",
        "\n",
        "# Calculating Engagement Rate (%)\n",
        "df['engagement_rate'] = ((df['likes'] + df['comments']) / df['followers']) * 100\n",
        "\n",
        "# Detecting potential fake followers\n",
        "# Rule: Engagement rate < 2% but followers > 100k\n",
        "df['fake_follower_flag'] = (df['engagement_rate'] < 2) & (df['followers'] > 100000)\n",
        "\n",
        "# Calculating ROI score (engagement rate divided by cost per post)\n",
        "df['roi_score'] = df['engagement_rate'] / df['cost_per_post']\n",
        "\n",
        "# Suggesting top influencers by ROI\n",
        "top_influencers = df.sort_values(by='roi_score', ascending=False)\n",
        "\n",
        "# Saveing results to a new CSV\n",
        "top_influencers.to_csv(\"influencer_analysis_results.csv\", index=False)\n",
        "\n",
        "# Printing clean results to console\n",
        "print(\"\\n=== Influencer Analysis ===\")\n",
        "print(df[['name', 'followers', 'engagement_rate', 'fake_follower_flag', 'roi_score']])\n",
        "\n",
        "print(\"\\n=== Top Influencers by ROI ===\")\n",
        "print(top_influencers[['name', 'roi_score']])\n"
      ]
    }
  ]
}